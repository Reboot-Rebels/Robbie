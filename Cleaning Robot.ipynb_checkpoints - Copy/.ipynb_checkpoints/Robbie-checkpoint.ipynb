{
 "cells": [
  {
   "cell_type": "code",
   "execution_count": 1,
   "id": "5d9d6541",
   "metadata": {},
   "outputs": [],
   "source": [
    "import tensorflow as tf"
   ]
  },
  {
   "cell_type": "code",
   "execution_count": 12,
   "id": "c3e27e4e",
   "metadata": {
    "scrolled": true
   },
   "outputs": [
    {
     "name": "stdout",
     "output_type": "stream",
     "text": [
      "Requirement already satisfied: keras==2.4.3 in c:\\users\\sanjj\\anaconda3\\envs\\tensorflow_env\\lib\\site-packages (2.4.3)\n",
      "Requirement already satisfied: numpy==1.19.3 in c:\\users\\sanjj\\anaconda3\\envs\\tensorflow_env\\lib\\site-packages (1.19.3)\n",
      "Collecting pillow==7.0.0\n",
      "  Using cached Pillow-7.0.0-cp38-cp38-win_amd64.whl (2.0 MB)\n",
      "Requirement already satisfied: scipy==1.4.1 in c:\\users\\sanjj\\anaconda3\\envs\\tensorflow_env\\lib\\site-packages (1.4.1)\n",
      "Requirement already satisfied: h5py==2.10.0 in c:\\users\\sanjj\\anaconda3\\envs\\tensorflow_env\\lib\\site-packages (2.10.0)\n",
      "Collecting matplotlib==3.3.2\n",
      "  Using cached matplotlib-3.3.2-cp38-cp38-win_amd64.whl (8.5 MB)\n",
      "Collecting opencv-python\n",
      "  Using cached opencv_python-4.5.2.54-cp38-cp38-win_amd64.whl (34.7 MB)\n",
      "Collecting keras-resnet==0.2.0\n",
      "  Using cached keras_resnet-0.2.0-py2.py3-none-any.whl\n",
      "Requirement already satisfied: pyyaml in c:\\users\\sanjj\\anaconda3\\envs\\tensorflow_env\\lib\\site-packages (from keras==2.4.3) (5.4.1)\n",
      "Requirement already satisfied: six in c:\\users\\sanjj\\anaconda3\\envs\\tensorflow_env\\lib\\site-packages (from h5py==2.10.0) (1.16.0)\n",
      "Requirement already satisfied: python-dateutil>=2.1 in c:\\users\\sanjj\\anaconda3\\envs\\tensorflow_env\\lib\\site-packages (from matplotlib==3.3.2) (2.8.1)\n",
      "Collecting cycler>=0.10\n",
      "  Using cached cycler-0.10.0-py2.py3-none-any.whl (6.5 kB)\n",
      "Collecting kiwisolver>=1.0.1\n",
      "  Using cached kiwisolver-1.3.1-cp38-cp38-win_amd64.whl (51 kB)\n",
      "Requirement already satisfied: certifi>=2020.06.20 in c:\\users\\sanjj\\anaconda3\\envs\\tensorflow_env\\lib\\site-packages (from matplotlib==3.3.2) (2021.5.30)\n",
      "Requirement already satisfied: pyparsing!=2.0.4,!=2.1.2,!=2.1.6,>=2.0.3 in c:\\users\\sanjj\\anaconda3\\envs\\tensorflow_env\\lib\\site-packages (from matplotlib==3.3.2) (2.4.7)\n",
      "Installing collected packages: pillow, kiwisolver, cycler, opencv-python, matplotlib, keras-resnet\n",
      "Successfully installed cycler-0.10.0 keras-resnet-0.2.0 kiwisolver-1.3.1 matplotlib-3.3.2 opencv-python-4.5.2.54 pillow-7.0.0\n",
      "Note: you may need to restart the kernel to use updated packages.\n"
     ]
    }
   ],
   "source": [
    "pip install keras==2.4.3 numpy==1.19.3 pillow==7.0.0 scipy==1.4.1 h5py==2.10.0 matplotlib==3.3.2 opencv-python keras-resnet==0.2.0"
   ]
  },
  {
   "cell_type": "code",
   "execution_count": 8,
   "id": "ba5891e6",
   "metadata": {
    "scrolled": true
   },
   "outputs": [
    {
     "name": "stdout",
     "output_type": "stream",
     "text": [
      "Collecting imageai\n",
      "  Downloading imageai-2.1.6-py3-none-any.whl (160 kB)\n",
      "Requirement already satisfied: keras==2.4.3 in c:\\users\\sanjj\\anaconda3\\envs\\tensorflow_env\\lib\\site-packages (from imageai) (2.4.3)\n",
      "Collecting keras-resnet==0.2.0\n",
      "  Downloading keras-resnet-0.2.0.tar.gz (9.3 kB)\n",
      "Collecting matplotlib==3.3.2\n",
      "  Downloading matplotlib-3.3.2-cp38-cp38-win_amd64.whl (8.5 MB)\n",
      "Collecting opencv-python\n",
      "  Downloading opencv_python-4.5.2.54-cp38-cp38-win_amd64.whl (34.7 MB)\n",
      "Requirement already satisfied: h5py==2.10.0 in c:\\users\\sanjj\\anaconda3\\envs\\tensorflow_env\\lib\\site-packages (from imageai) (2.10.0)\n",
      "Collecting numpy==1.19.3\n",
      "  Downloading numpy-1.19.3-cp38-cp38-win_amd64.whl (13.3 MB)\n",
      "Collecting scipy==1.4.1\n",
      "  Downloading scipy-1.4.1-cp38-cp38-win_amd64.whl (31.0 MB)\n",
      "Collecting pillow==7.0.0\n",
      "  Downloading Pillow-7.0.0-cp38-cp38-win_amd64.whl (2.0 MB)\n",
      "Requirement already satisfied: six in c:\\users\\sanjj\\anaconda3\\envs\\tensorflow_env\\lib\\site-packages (from h5py==2.10.0->imageai) (1.16.0)\n",
      "Requirement already satisfied: pyyaml in c:\\users\\sanjj\\anaconda3\\envs\\tensorflow_env\\lib\\site-packages (from keras==2.4.3->imageai) (5.4.1)\n",
      "Collecting kiwisolver>=1.0.1\n",
      "  Downloading kiwisolver-1.3.1-cp38-cp38-win_amd64.whl (51 kB)\n",
      "Requirement already satisfied: python-dateutil>=2.1 in c:\\users\\sanjj\\anaconda3\\envs\\tensorflow_env\\lib\\site-packages (from matplotlib==3.3.2->imageai) (2.8.1)\n",
      "Requirement already satisfied: pyparsing!=2.0.4,!=2.1.2,!=2.1.6,>=2.0.3 in c:\\users\\sanjj\\anaconda3\\envs\\tensorflow_env\\lib\\site-packages (from matplotlib==3.3.2->imageai) (2.4.7)\n",
      "Collecting cycler>=0.10\n",
      "  Downloading cycler-0.10.0-py2.py3-none-any.whl (6.5 kB)\n",
      "Requirement already satisfied: certifi>=2020.06.20 in c:\\users\\sanjj\\anaconda3\\envs\\tensorflow_env\\lib\\site-packages (from matplotlib==3.3.2->imageai) (2021.5.30)\n",
      "Building wheels for collected packages: keras-resnet\n",
      "  Building wheel for keras-resnet (setup.py): started\n",
      "  Building wheel for keras-resnet (setup.py): finished with status 'done'\n",
      "  Created wheel for keras-resnet: filename=keras_resnet-0.2.0-py2.py3-none-any.whl size=20486 sha256=71e594424346f6bfd47b847724f36a9d4c10b58ef7c6a052790d61eeae4e794b\n",
      "  Stored in directory: c:\\users\\sanjj\\appdata\\local\\pip\\cache\\wheels\\be\\90\\98\\9d455f04a7ca277366b36c660c89d171ff5abb7bdd8a8b8e75\n",
      "Successfully built keras-resnet\n",
      "Installing collected packages: numpy, scipy, pillow, kiwisolver, cycler, opencv-python, matplotlib, keras-resnet, imageai\n",
      "  Attempting uninstall: numpy\n",
      "    Found existing installation: numpy 1.20.2\n",
      "    Uninstalling numpy-1.20.2:\n",
      "      Successfully uninstalled numpy-1.20.2\n",
      "Note: you may need to restart the kernel to use updated packages.\n"
     ]
    },
    {
     "name": "stderr",
     "output_type": "stream",
     "text": [
      "ERROR: Could not install packages due to an OSError: [WinError 5] Access is denied: 'C:\\\\Users\\\\sanjj\\\\anaconda3\\\\envs\\\\tensorflow_env\\\\Lib\\\\site-packages\\\\~umpy\\\\core\\\\_multiarray_tests.cp38-win_amd64.pyd'\n",
      "Consider using the `--user` option or check the permissions.\n",
      "\n"
     ]
    }
   ],
   "source": [
    "pip install imageai --upgrade"
   ]
  },
  {
   "cell_type": "code",
   "execution_count": 10,
   "id": "aec7fade",
   "metadata": {},
   "outputs": [
    {
     "name": "stdout",
     "output_type": "stream",
     "text": [
      "Processing c:\\users\\sanjj\\desktop\\dummy.ipynb_checkpoints\\imageai-2.0.2-py3-none-any.whl\n",
      "imageai is already installed with the same version as the provided wheel. Use --force-reinstall to force an installation of the wheel.\n",
      "Note: you may need to restart the kernel to use updated packages.\n"
     ]
    }
   ],
   "source": [
    "pip install imageai-2.0.2-py3-none-any.whl"
   ]
  },
  {
   "cell_type": "code",
   "execution_count": null,
   "id": "8e1e9d4e",
   "metadata": {},
   "outputs": [],
   "source": [
    "from imageai.Detection import ObjectDetection\n",
    "import os\n",
    "\n",
    "execution_path = os.getcwd()\n",
    "\n",
    "detector = ObjectDetection()\n",
    "detector.setModelTypeAsRetinaNet()\n",
    "detector.setModelPath( os.path.join(execution_path , \"coco.names\"))\n",
    "detector.loadModel()\n",
    "detections = detector.detectObjectsFromImage(input_image=os.path.join(execution_path , \"img.png\"), output_image_path=os.path.join(execution_path , \"imagenew.jpg\"))\n",
    "\n",
    "for eachObject in detections:\n",
    "    print(eachObject[\"name\"] , \" : \" , eachObject[\"percentage_probability\"] )"
   ]
  },
  {
   "cell_type": "code",
   "execution_count": null,
   "id": "5d8d0e84",
   "metadata": {},
   "outputs": [],
   "source": [
    "from imageai.Detection import ObjectDetection\n",
    "import os\n",
    "\n",
    "execution_path = os.getcwd()"
   ]
  },
  {
   "cell_type": "code",
   "execution_count": null,
   "id": "4c3ab18f",
   "metadata": {},
   "outputs": [],
   "source": [
    "detector = ObjectDetection()\n",
    "detector.setModelTypeAsRetinaNet()\n",
    "detector.setModelPath( os.path.join(execution_path , \"resnet50_coco_best_v2.0.1.h5\"))\n",
    "detector.loadModel()\n",
    "detections = detector.detectObjectsFromImage(input_image=os.path.join(execution_path , \"image.jpg\"), output_image_path=os.path.join(execution_path , \"imagenew.jpg\"))\n"
   ]
  },
  {
   "cell_type": "code",
   "execution_count": null,
   "id": "e68ef7b6",
   "metadata": {},
   "outputs": [],
   "source": [
    "for eachObject in detections:\n",
    "    print(eachObject[\"name\"] , \" : \" , eachObject[\"percentage_probability\"] )"
   ]
  },
  {
   "cell_type": "code",
   "execution_count": null,
   "id": "6124e844",
   "metadata": {},
   "outputs": [],
   "source": [
    "detections, extracted_images = detector.detectObjectsFromImage(input_image=os.path.join(execution_path , \"image.jpg\"), output_image_path=os.path.join(execution_path , \"imagenew.jpg\"), extract_detected_objects=True)\n"
   ]
  }
 ],
 "metadata": {
  "kernelspec": {
   "display_name": "Python 3",
   "language": "python",
   "name": "python3"
  },
  "language_info": {
   "codemirror_mode": {
    "name": "ipython",
    "version": 3
   },
   "file_extension": ".py",
   "mimetype": "text/x-python",
   "name": "python",
   "nbconvert_exporter": "python",
   "pygments_lexer": "ipython3",
   "version": "3.8.8"
  }
 },
 "nbformat": 4,
 "nbformat_minor": 5
}
